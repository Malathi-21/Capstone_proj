{
 "cells": [
  {
   "cell_type": "code",
   "execution_count": 1,
   "metadata": {},
   "outputs": [],
   "source": [
    "import pandas as pd\n",
    "from sklearn.preprocessing import StandardScaler\n",
    "import pickle\n",
    "df=pd.read_csv(\"cust_churn_preprocessed_data.csv\")\n",
    "x = df[['tenure', 'MonthlyCharges','TotalCharges','TechSupport_Yes','Contract_Two year']]\n",
    "y = df[\"Churn_Yes\"]\n",
    "sd=StandardScaler()\n",
    "X_t=sd.fit_transform(x)\n"
   ]
  },
  {
   "cell_type": "code",
   "execution_count": 4,
   "metadata": {},
   "outputs": [],
   "source": [
    "input_data = {\n",
    "    'tenure':0, \n",
    "    'MonthlyCharges':30.5,\n",
    "    'TotalCharges':50, \n",
    "    'TechSupport_Yes':1, \n",
    "    'Contract_Two year':1\n",
    "}"
   ]
  },
  {
   "cell_type": "code",
   "execution_count": 5,
   "metadata": {},
   "outputs": [
    {
     "name": "stdout",
     "output_type": "stream",
     "text": [
      "[0]\n",
      "Prediction: No Churn\n",
      "Prediciton Probability: [[0.83705635 0.16294365]]\n"
     ]
    }
   ],
   "source": [
    "input_data_df = pd.DataFrame([input_data])\n",
    "preinput=sd.transform(input_data_df)\n",
    "loaded_model=pickle.load(open(\"final_model_sales.sav\",'rb'))\n",
    "prediction=loaded_model.predict(preinput)\n",
    "pred_prob = loaded_model.predict_proba(preinput)\n",
    "print(prediction)\n",
    "print(f\"Prediction: {'Churn' if prediction[0] == 1 else 'No Churn'}\")\n",
    "print(f\"Prediciton Probability: {pred_prob}\")"
   ]
  }
 ],
 "metadata": {
  "kernelspec": {
   "display_name": "Python 3",
   "language": "python",
   "name": "python3"
  },
  "language_info": {
   "codemirror_mode": {
    "name": "ipython",
    "version": 3
   },
   "file_extension": ".py",
   "mimetype": "text/x-python",
   "name": "python",
   "nbconvert_exporter": "python",
   "pygments_lexer": "ipython3",
   "version": "3.11.9"
  }
 },
 "nbformat": 4,
 "nbformat_minor": 2
}
